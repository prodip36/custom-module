{
  "nbformat": 4,
  "nbformat_minor": 0,
  "metadata": {
    "colab": {
      "provenance": [],
      "authorship_tag": "ABX9TyN9GxePaW3jSVniVxsMRJ2z",
      "include_colab_link": true
    },
    "kernelspec": {
      "name": "python3",
      "display_name": "Python 3"
    },
    "language_info": {
      "name": "python"
    }
  },
  "cells": [
    {
      "cell_type": "markdown",
      "metadata": {
        "id": "view-in-github",
        "colab_type": "text"
      },
      "source": [
        "<a href=\"https://colab.research.google.com/github/prodip36/custom-module/blob/main/ModTest.ipynb\" target=\"_parent\"><img src=\"https://colab.research.google.com/assets/colab-badge.svg\" alt=\"Open In Colab\"/></a>"
      ]
    },
    {
      "cell_type": "code",
      "execution_count": null,
      "metadata": {
        "id": "Pn3OexlQWFkd"
      },
      "outputs": [],
      "source": []
    },
    {
      "cell_type": "code",
      "source": [
        "import edgeModAlpha as a\n",
        "\n",
        "print(a.getAlpha('a','z'))"
      ],
      "metadata": {
        "colab": {
          "base_uri": "https://localhost:8080/"
        },
        "id": "QYaqSJVHWkXg",
        "outputId": "e3475b67-a486-428b-d94d-401664668bf7"
      },
      "execution_count": 3,
      "outputs": [
        {
          "output_type": "stream",
          "name": "stdout",
          "text": [
            "['a = 97', 'b = 98', 'c = 99', 'd = 100', 'e = 101', 'f = 102', 'g = 103', 'h = 104', 'i = 105', 'j = 106', 'k = 107', 'l = 108', 'm = 109', 'n = 110', 'o = 111', 'p = 112', 'q = 113', 'r = 114', 's = 115', 't = 116', 'u = 117', 'v = 118', 'w = 119', 'x = 120', 'y = 121', 'z = 122']\n"
          ]
        }
      ]
    },
    {
      "cell_type": "markdown",
      "source": [],
      "metadata": {
        "id": "k46q6mnwWhEV"
      }
    }
  ]
}